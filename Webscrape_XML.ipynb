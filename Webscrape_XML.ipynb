{
 "cells": [
  {
   "cell_type": "markdown",
   "id": "d593f0a9-7c09-4df6-9899-4ce82f77d008",
   "metadata": {
    "jp-MarkdownHeadingCollapsed": true
   },
   "source": [
    "## Import Libraries"
   ]
  },
  {
   "cell_type": "code",
   "execution_count": 1,
   "id": "c7f799f8-5a5b-48d6-99a9-e4bfa1884ea5",
   "metadata": {},
   "outputs": [],
   "source": [
    "import os\n",
    "import xml.etree.ElementTree as ET\n",
    "import re\n",
    "import string\n",
    "import unicodedata\n",
    "from bs4 import BeautifulSoup\n",
    "import nltk"
   ]
  },
  {
   "cell_type": "code",
   "execution_count": null,
   "id": "484b64fe-b56d-4260-8573-4c0f8bebae48",
   "metadata": {},
   "outputs": [],
   "source": [
    "# from nltk import word_tokenize, sent_tokenize\n",
    "# from nltk.corpus import stopwords\n",
    "# from nltk.stem import LancasterStemmer, WordNetLemmatizer"
   ]
  },
  {
   "cell_type": "code",
   "execution_count": 13,
   "id": "3af086ae-ce5c-4cf9-8b36-23a532905198",
   "metadata": {},
   "outputs": [],
   "source": [
    "# os.getcwd()"
   ]
  },
  {
   "cell_type": "markdown",
   "id": "0086b9b7-dcca-4386-9654-be4dae849df3",
   "metadata": {
    "jp-MarkdownHeadingCollapsed": true
   },
   "source": [
    "## Parse XML"
   ]
  },
  {
   "cell_type": "code",
   "execution_count": 2,
   "id": "a30620d3-d938-4a92-94b8-33061ecc1f43",
   "metadata": {},
   "outputs": [],
   "source": [
    "tree = ET.parse(\"769952.xml\") \n",
    "root = tree.getroot()"
   ]
  },
  {
   "cell_type": "code",
   "execution_count": 3,
   "id": "5221a6ca-d3e5-4ddf-9065-78f5a3c4d1f1",
   "metadata": {},
   "outputs": [
    {
     "data": {
      "text/plain": [
       "<xml.etree.ElementTree.ElementTree at 0x1f261773a40>"
      ]
     },
     "execution_count": 3,
     "metadata": {},
     "output_type": "execute_result"
    }
   ],
   "source": [
    "tree"
   ]
  },
  {
   "cell_type": "code",
   "execution_count": 4,
   "id": "ad096dea-f81f-46f7-953c-e334e8fdb71f",
   "metadata": {},
   "outputs": [
    {
     "data": {
      "text/plain": [
       "<Element 'article' at 0x000001F2620AB5B0>"
      ]
     },
     "execution_count": 4,
     "metadata": {},
     "output_type": "execute_result"
    }
   ],
   "source": [
    "root"
   ]
  },
  {
   "cell_type": "code",
   "execution_count": 5,
   "id": "f61e0acf-c5e1-4ab6-858f-0b25f7a7f500",
   "metadata": {},
   "outputs": [],
   "source": [
    "root = ET.tostring(root, encoding='utf8').decode('utf8')"
   ]
  },
  {
   "cell_type": "code",
   "execution_count": 6,
   "id": "63ceb9ac-a517-48cc-adf5-021ffb5f2c08",
   "metadata": {},
   "outputs": [
    {
     "data": {
      "text/plain": [
       "8353"
      ]
     },
     "execution_count": 6,
     "metadata": {},
     "output_type": "execute_result"
    }
   ],
   "source": [
    "len(root)"
   ]
  },
  {
   "cell_type": "code",
   "execution_count": 7,
   "id": "85c6cd49-7bec-4fc4-bab0-c242c4bf4bf3",
   "metadata": {},
   "outputs": [
    {
     "data": {
      "text/plain": [
       "'<?xml version=\\'1.0\\' encoding=\\'utf8\\'?>\\n<article>\\n    <front>\\n        <journal-meta>\\n            <journal-id journal-id-type=\"publication\">0901c7918047d0e2</journal-id>\\n            <journal-id journal-id-type=\"publisher\" />\\n            <journal-title>Orphan Drug Approvals</journal-title>\\n            <abbrev-journal-title abbrev-type=\"publication\" />\\n            <issn />\\n            <publisher>\\n                <publisher-name>\\n                    <p>WebMD, LLC</p>\\n                </publisher-name>\\n'"
      ]
     },
     "execution_count": 7,
     "metadata": {},
     "output_type": "execute_result"
    }
   ],
   "source": [
    "root[0:500]"
   ]
  },
  {
   "cell_type": "markdown",
   "id": "12f1290a-8380-4893-8e6e-32c9a1726a2f",
   "metadata": {
    "jp-MarkdownHeadingCollapsed": true
   },
   "source": [
    "## Define Functions"
   ]
  },
  {
   "cell_type": "code",
   "execution_count": 20,
   "id": "7401ec0f-08c6-4d9c-91f1-bf76bdfd37d2",
   "metadata": {},
   "outputs": [],
   "source": [
    "def strip_html(text):\n",
    "    soup = BeautifulSoup(text, \"html.parser\")\n",
    "    return soup.get_text()\n",
    "\n",
    "def remove_between_square_brackets(text):\n",
    "    return re.sub('\\\\[[^]]*\\\\]', '', text)\n",
    "\n",
    "def denoise_text(text):\n",
    "    text = strip_html(text)\n",
    "    text = remove_between_square_brackets(text)\n",
    "    text=re.sub('  ','',text)\n",
    "    return text"
   ]
  },
  {
   "cell_type": "markdown",
   "id": "6c7e88e4-96f9-4cec-ac43-b3a23128c2db",
   "metadata": {
    "jp-MarkdownHeadingCollapsed": true
   },
   "source": [
    "## Check Functions Steps Manually"
   ]
  },
  {
   "cell_type": "code",
   "execution_count": null,
   "id": "4ec24aec-8868-4933-9527-858b2048206f",
   "metadata": {},
   "outputs": [],
   "source": [
    "soup_obj = BeautifulSoup(root, \"html.parser\")\n",
    "\n",
    "# type(soup_obj)\n",
    "# bs4.BeautifulSoup"
   ]
  },
  {
   "cell_type": "code",
   "execution_count": 13,
   "id": "e14f24c3-9b60-4e00-8de1-45a93f0d45da",
   "metadata": {},
   "outputs": [
    {
     "data": {
      "text/plain": [
       "5104"
      ]
     },
     "execution_count": 13,
     "metadata": {},
     "output_type": "execute_result"
    }
   ],
   "source": [
    "sout_text_data1 = soup_obj.text\n",
    "len(sout_text_data1)"
   ]
  },
  {
   "cell_type": "code",
   "execution_count": 14,
   "id": "872c36f3-5ee7-4920-ad84-6f44b4ea629b",
   "metadata": {},
   "outputs": [
    {
     "data": {
      "text/plain": [
       "'\\n\\n\\n\\n0901c7918047d0e2\\n\\nOrphan Drug Approvals\\n\\n\\n\\n\\nWebMD, LLC\\n\\n\\n\\nindex\\n\\n\\n\\n0901c79180555528\\n\\n\\nNews Alert\\n\\n\\n\\n\\n\\nFDA Grants Orphan Drug Status to Gevokizumab\\n\\nThe FDA has granted orphan drug designation to gevokizumab for the treatment of noninfectious intermediate uveitis, posterior uveitis, or panuveitis, or chronic noninfectious anterior uveitis.\\n\\n\\n\\n\\nTroy Brown\\n\\nJournalist\\n\\nTroy Brown is a freelance writer for Medscape.\\n\\n\\nDisclosure\\nTroy Brown has disclosed no relevant financial relationships.\\n\\n\\nTitle\\n\\n\\n\\n\\n\\n29\\n08\\n2012\\n\\n\\n\\n\\n\\n\\n\\n\\nchoroiditis,cyclitis,intermediate uveitis,orphan drugs,pars planitis,posterior uveitis\\n\\n\\n\\n29\\n08\\n2012\\n\\n\\n\\n\\n\\n\\n\\n\\n\\n\\n\\nAugust 29, 2012 — The US Food and Drug Administration (FDA) has granted orphan drug status to gevokizumab (Xoma 052, Xoma Corp), a monoclonal antibody that binds strongly to interleukin 1β (IL-1β), for the treatment of noninfectious intermediate uveitis, posterior uveitis, or panuveitis, or chronic noninfectious anterior uveitis.\\nThe Orphan Drug Act of 1983 was passed to encourage companies to develop treatments for rare diseases (diseases that affect fewer than 200,000 people in the United States). Because the market is so small, such treatments can be unprofitable to develop. Companies that develop orphan drugs receive a 50% tax credit for the cost of conducting human clinical trials, 7-year marketing exclusivity, and other incentives.\\nBehçet\\'s disease is a rare multisystem disease that causes blood vessel inflammation throughout the body. Common symptoms are mouth sores, genital sores, and a type of panuveitis known as Behçet\\'s uveitis, an inflammation of the uvea, retina, and vitreous humor that can lead to retinal detachment, vitreous hemorrhage, glaucoma, and blindness.\\n\"A genetic association has been shown between Behçet\\'s disease and the IL-1 gene cluster, and IL-1β has been implicated as a mediator in Behçet\\'s disease pathogenesis,\" Christine Kay, MD, the director of Retinal Clinical Research and the director of the Electrophysiology Service in the Vitreoretinal Division of the Department of Ophthalmology at the University of Florida in Gainesville, told Medscape Medical News. Dr. Kay is a clinical correspondent for the American Academy of Ophthalmology.\\n\"Gevokizumab regulates the activation of IL-1 receptors and can be intravenously or subcutaneously administered,\" Dr. Kay added.\\nPatients with Behçet\\'s uveitis have few treatment options. \"There are currently only 2 drugs FDA-approved for the treatment of chronic noninfectious intermediate, posterior, and panuveitis (Retisert [Bausch & Lomb] and Ozurdex [Allergan]), and both are extended-release corticosteroid ocular implants,\" Dr. Kay said.\\nResults of a proof-of-concept phase 2 trial of intravenous gevokizumab in 7 patients with Behçet\\'s uveitis were published in the April issue of the Annals of Rheumatic Diseases. In that trial patients were given a single infusion of gevokizumab (0.3 mg/kg), and all patients experienced complete reduction of intraocular inflammation in between 4 and 21 days (median, 14 days). There were no treatment-related adverse events.\\n\"In clinical trials, so far, gevokizumab has been studied in nearly 500 patients. The studies have shown that gevokizumab is well-tolerated, and no drug-related adverse events have been reported,\" Fred Kurland, chief financial officer of Xoma, said in an email interview with Medscape Medical News.\\nAlthough it appears that gevokizumab \"may offer a viable treatment option in Behçet\\'s disease, it remains to be seen if an IL-1 antibody will have an effect in other forms of noninfectious uveitis. A phase 3 clinical trial to evaluate the efficacy of [gevokizumab] in the treatment of noninfectious uveitis is in the recruitment process,\" Dr. Kay said.\\n\"Gevokizumab does offer the possibility of a pathophysiology-driven targeted therapy for IL-1 related uveitis, and if proven safe and effective in a phase 3 trial, this could provide a valuable option in the treatment of noninfectious intermediate uveitis, posterior uveitis, and panuveitis. Even if this drug is only shown to be effective in Behçet\\'s disease, this could provide a useful and targeted treatment for an extremely aggressive condition, perhaps limiting broader and more toxic immunosuppression,\" Dr. Kay said.\\n\\nOther Potential Indications\\n\\n\"As an IL-1β inhibitor, gevokizumab has potential in a very large number of indications that are driven by inflammation, such as noninfectious uveitis.... [W]e are also engaged in 2 proof-of-concept phase 2 trials using gevokizumab in patients with moderate to severe acne vulgaris and in erosive osteoarthritis of the hand, and we will initiate a third proof-of-concept trial in another indication later this year,\" Kurland explained.\\n\"With respect to the [noninfectious uveitis] market specifically, we estimate that there are approximately 150,000 patients in the [United States who have noninfectious uveitis],\" Kurland added, noting they are not discussing the drug\\'s pricing yet.\\n\\nDr. Kay has disclosed no relevant financial relationships.\\n\\n\\n\\n\\n\\n\\n\\nReferences\\n\\n\\n\\n\\n\\n\\n\\nAcknowledgements\\n\\n\\n\\n\\n\\n\\n\\n\\n'"
      ]
     },
     "execution_count": 14,
     "metadata": {},
     "output_type": "execute_result"
    }
   ],
   "source": [
    "sout_text_data1"
   ]
  },
  {
   "cell_type": "code",
   "execution_count": 16,
   "id": "0a6e7470-b1da-4c17-9e61-908f2f9378f9",
   "metadata": {},
   "outputs": [
    {
     "data": {
      "text/plain": [
       "4994"
      ]
     },
     "execution_count": 16,
     "metadata": {},
     "output_type": "execute_result"
    }
   ],
   "source": [
    "sout_text_data2 = re.sub('\\\\[[^]]*\\\\]', '', sout_text_data1)\n",
    "len(sout_text_data2)"
   ]
  },
  {
   "cell_type": "code",
   "execution_count": 17,
   "id": "fc25a35e-7dcb-4c5a-910e-fa0c40553f69",
   "metadata": {},
   "outputs": [
    {
     "data": {
      "text/plain": [
       "'\\n\\n\\n\\n0901c7918047d0e2\\n\\nOrphan Drug Approvals\\n\\n\\n\\n\\nWebMD, LLC\\n\\n\\n\\nindex\\n\\n\\n\\n0901c79180555528\\n\\n\\nNews Alert\\n\\n\\n\\n\\n\\nFDA Grants Orphan Drug Status to Gevokizumab\\n\\nThe FDA has granted orphan drug designation to gevokizumab for the treatment of noninfectious intermediate uveitis, posterior uveitis, or panuveitis, or chronic noninfectious anterior uveitis.\\n\\n\\n\\n\\nTroy Brown\\n\\nJournalist\\n\\nTroy Brown is a freelance writer for Medscape.\\n\\n\\nDisclosure\\nTroy Brown has disclosed no relevant financial relationships.\\n\\n\\nTitle\\n\\n\\n\\n\\n\\n29\\n08\\n2012\\n\\n\\n\\n\\n\\n\\n\\n\\nchoroiditis,cyclitis,intermediate uveitis,orphan drugs,pars planitis,posterior uveitis\\n\\n\\n\\n29\\n08\\n2012\\n\\n\\n\\n\\n\\n\\n\\n\\n\\n\\n\\nAugust 29, 2012 — The US Food and Drug Administration (FDA) has granted orphan drug status to gevokizumab (Xoma 052, Xoma Corp), a monoclonal antibody that binds strongly to interleukin 1β (IL-1β), for the treatment of noninfectious intermediate uveitis, posterior uveitis, or panuveitis, or chronic noninfectious anterior uveitis.\\nThe Orphan Drug Act of 1983 was passed to encourage companies to develop treatments for rare diseases (diseases that affect fewer than 200,000 people in the United States). Because the market is so small, such treatments can be unprofitable to develop. Companies that develop orphan drugs receive a 50% tax credit for the cost of conducting human clinical trials, 7-year marketing exclusivity, and other incentives.\\nBehçet\\'s disease is a rare multisystem disease that causes blood vessel inflammation throughout the body. Common symptoms are mouth sores, genital sores, and a type of panuveitis known as Behçet\\'s uveitis, an inflammation of the uvea, retina, and vitreous humor that can lead to retinal detachment, vitreous hemorrhage, glaucoma, and blindness.\\n\"A genetic association has been shown between Behçet\\'s disease and the IL-1 gene cluster, and IL-1β has been implicated as a mediator in Behçet\\'s disease pathogenesis,\" Christine Kay, MD, the director of Retinal Clinical Research and the director of the Electrophysiology Service in the Vitreoretinal Division of the Department of Ophthalmology at the University of Florida in Gainesville, told Medscape Medical News. Dr. Kay is a clinical correspondent for the American Academy of Ophthalmology.\\n\"Gevokizumab regulates the activation of IL-1 receptors and can be intravenously or subcutaneously administered,\" Dr. Kay added.\\nPatients with Behçet\\'s uveitis have few treatment options. \"There are currently only 2 drugs FDA-approved for the treatment of chronic noninfectious intermediate, posterior, and panuveitis (Retisert  and Ozurdex ), and both are extended-release corticosteroid ocular implants,\" Dr. Kay said.\\nResults of a proof-of-concept phase 2 trial of intravenous gevokizumab in 7 patients with Behçet\\'s uveitis were published in the April issue of the Annals of Rheumatic Diseases. In that trial patients were given a single infusion of gevokizumab (0.3 mg/kg), and all patients experienced complete reduction of intraocular inflammation in between 4 and 21 days (median, 14 days). There were no treatment-related adverse events.\\n\"In clinical trials, so far, gevokizumab has been studied in nearly 500 patients. The studies have shown that gevokizumab is well-tolerated, and no drug-related adverse events have been reported,\" Fred Kurland, chief financial officer of Xoma, said in an email interview with Medscape Medical News.\\nAlthough it appears that gevokizumab \"may offer a viable treatment option in Behçet\\'s disease, it remains to be seen if an IL-1 antibody will have an effect in other forms of noninfectious uveitis. A phase 3 clinical trial to evaluate the efficacy of  in the treatment of noninfectious uveitis is in the recruitment process,\" Dr. Kay said.\\n\"Gevokizumab does offer the possibility of a pathophysiology-driven targeted therapy for IL-1 related uveitis, and if proven safe and effective in a phase 3 trial, this could provide a valuable option in the treatment of noninfectious intermediate uveitis, posterior uveitis, and panuveitis. Even if this drug is only shown to be effective in Behçet\\'s disease, this could provide a useful and targeted treatment for an extremely aggressive condition, perhaps limiting broader and more toxic immunosuppression,\" Dr. Kay said.\\n\\nOther Potential Indications\\n\\n\"As an IL-1β inhibitor, gevokizumab has potential in a very large number of indications that are driven by inflammation, such as noninfectious uveitis.... e are also engaged in 2 proof-of-concept phase 2 trials using gevokizumab in patients with moderate to severe acne vulgaris and in erosive osteoarthritis of the hand, and we will initiate a third proof-of-concept trial in another indication later this year,\" Kurland explained.\\n\"With respect to the  market specifically, we estimate that there are approximately 150,000 patients in the ,\" Kurland added, noting they are not discussing the drug\\'s pricing yet.\\n\\nDr. Kay has disclosed no relevant financial relationships.\\n\\n\\n\\n\\n\\n\\n\\nReferences\\n\\n\\n\\n\\n\\n\\n\\nAcknowledgements\\n\\n\\n\\n\\n\\n\\n\\n\\n'"
      ]
     },
     "execution_count": 17,
     "metadata": {},
     "output_type": "execute_result"
    }
   ],
   "source": [
    "sout_text_data2"
   ]
  },
  {
   "cell_type": "code",
   "execution_count": 18,
   "id": "a5b236b4-201b-4809-adb7-900059819cca",
   "metadata": {},
   "outputs": [
    {
     "data": {
      "text/plain": [
       "4988"
      ]
     },
     "execution_count": 18,
     "metadata": {},
     "output_type": "execute_result"
    }
   ],
   "source": [
    "sout_text_data = re.sub('  ', '', sout_text_data2)\n",
    "len(sout_text_data)"
   ]
  },
  {
   "cell_type": "code",
   "execution_count": 19,
   "id": "3b14f9e9-891a-40cf-9208-e8b7abd16cda",
   "metadata": {},
   "outputs": [
    {
     "data": {
      "text/plain": [
       "'\\n\\n\\n\\n0901c7918047d0e2\\n\\nOrphan Drug Approvals\\n\\n\\n\\n\\nWebMD, LLC\\n\\n\\n\\nindex\\n\\n\\n\\n0901c79180555528\\n\\n\\nNews Alert\\n\\n\\n\\n\\n\\nFDA Grants Orphan Drug Status to Gevokizumab\\n\\nThe FDA has granted orphan drug designation to gevokizumab for the treatment of noninfectious intermediate uveitis, posterior uveitis, or panuveitis, or chronic noninfectious anterior uveitis.\\n\\n\\n\\n\\nTroy Brown\\n\\nJournalist\\n\\nTroy Brown is a freelance writer for Medscape.\\n\\n\\nDisclosure\\nTroy Brown has disclosed no relevant financial relationships.\\n\\n\\nTitle\\n\\n\\n\\n\\n\\n29\\n08\\n2012\\n\\n\\n\\n\\n\\n\\n\\n\\nchoroiditis,cyclitis,intermediate uveitis,orphan drugs,pars planitis,posterior uveitis\\n\\n\\n\\n29\\n08\\n2012\\n\\n\\n\\n\\n\\n\\n\\n\\n\\n\\n\\nAugust 29, 2012 — The US Food and Drug Administration (FDA) has granted orphan drug status to gevokizumab (Xoma 052, Xoma Corp), a monoclonal antibody that binds strongly to interleukin 1β (IL-1β), for the treatment of noninfectious intermediate uveitis, posterior uveitis, or panuveitis, or chronic noninfectious anterior uveitis.\\nThe Orphan Drug Act of 1983 was passed to encourage companies to develop treatments for rare diseases (diseases that affect fewer than 200,000 people in the United States). Because the market is so small, such treatments can be unprofitable to develop. Companies that develop orphan drugs receive a 50% tax credit for the cost of conducting human clinical trials, 7-year marketing exclusivity, and other incentives.\\nBehçet\\'s disease is a rare multisystem disease that causes blood vessel inflammation throughout the body. Common symptoms are mouth sores, genital sores, and a type of panuveitis known as Behçet\\'s uveitis, an inflammation of the uvea, retina, and vitreous humor that can lead to retinal detachment, vitreous hemorrhage, glaucoma, and blindness.\\n\"A genetic association has been shown between Behçet\\'s disease and the IL-1 gene cluster, and IL-1β has been implicated as a mediator in Behçet\\'s disease pathogenesis,\" Christine Kay, MD, the director of Retinal Clinical Research and the director of the Electrophysiology Service in the Vitreoretinal Division of the Department of Ophthalmology at the University of Florida in Gainesville, told Medscape Medical News. Dr. Kay is a clinical correspondent for the American Academy of Ophthalmology.\\n\"Gevokizumab regulates the activation of IL-1 receptors and can be intravenously or subcutaneously administered,\" Dr. Kay added.\\nPatients with Behçet\\'s uveitis have few treatment options. \"There are currently only 2 drugs FDA-approved for the treatment of chronic noninfectious intermediate, posterior, and panuveitis (Retisertand Ozurdex ), and both are extended-release corticosteroid ocular implants,\" Dr. Kay said.\\nResults of a proof-of-concept phase 2 trial of intravenous gevokizumab in 7 patients with Behçet\\'s uveitis were published in the April issue of the Annals of Rheumatic Diseases. In that trial patients were given a single infusion of gevokizumab (0.3 mg/kg), and all patients experienced complete reduction of intraocular inflammation in between 4 and 21 days (median, 14 days). There were no treatment-related adverse events.\\n\"In clinical trials, so far, gevokizumab has been studied in nearly 500 patients. The studies have shown that gevokizumab is well-tolerated, and no drug-related adverse events have been reported,\" Fred Kurland, chief financial officer of Xoma, said in an email interview with Medscape Medical News.\\nAlthough it appears that gevokizumab \"may offer a viable treatment option in Behçet\\'s disease, it remains to be seen if an IL-1 antibody will have an effect in other forms of noninfectious uveitis. A phase 3 clinical trial to evaluate the efficacy ofin the treatment of noninfectious uveitis is in the recruitment process,\" Dr. Kay said.\\n\"Gevokizumab does offer the possibility of a pathophysiology-driven targeted therapy for IL-1 related uveitis, and if proven safe and effective in a phase 3 trial, this could provide a valuable option in the treatment of noninfectious intermediate uveitis, posterior uveitis, and panuveitis. Even if this drug is only shown to be effective in Behçet\\'s disease, this could provide a useful and targeted treatment for an extremely aggressive condition, perhaps limiting broader and more toxic immunosuppression,\" Dr. Kay said.\\n\\nOther Potential Indications\\n\\n\"As an IL-1β inhibitor, gevokizumab has potential in a very large number of indications that are driven by inflammation, such as noninfectious uveitis.... e are also engaged in 2 proof-of-concept phase 2 trials using gevokizumab in patients with moderate to severe acne vulgaris and in erosive osteoarthritis of the hand, and we will initiate a third proof-of-concept trial in another indication later this year,\" Kurland explained.\\n\"With respect to themarket specifically, we estimate that there are approximately 150,000 patients in the ,\" Kurland added, noting they are not discussing the drug\\'s pricing yet.\\n\\nDr. Kay has disclosed no relevant financial relationships.\\n\\n\\n\\n\\n\\n\\n\\nReferences\\n\\n\\n\\n\\n\\n\\n\\nAcknowledgements\\n\\n\\n\\n\\n\\n\\n\\n\\n'"
      ]
     },
     "execution_count": 19,
     "metadata": {},
     "output_type": "execute_result"
    }
   ],
   "source": [
    "sout_text_data"
   ]
  },
  {
   "cell_type": "code",
   "execution_count": 23,
   "id": "65216231-7645-4c97-8720-d9ef0a34c86a",
   "metadata": {},
   "outputs": [
    {
     "name": "stdout",
     "output_type": "stream",
     "text": [
      "\n",
      "\n",
      "\n",
      "\n",
      "0901c7918047d0e2\n",
      "\n",
      "Orphan Drug Approvals\n",
      "\n",
      "\n",
      "\n",
      "\n",
      "WebMD, LLC\n",
      "\n",
      "\n",
      "\n",
      "index\n",
      "\n",
      "\n",
      "\n",
      "0901c79180555528\n",
      "\n",
      "\n",
      "News Alert\n",
      "\n",
      "\n",
      "\n",
      "\n",
      "\n",
      "FDA Grants Orphan Drug Status to Gevokizumab\n",
      "\n",
      "The FDA has granted orphan drug designation to gevokizumab for the treatment of noninfectious intermediate uveitis, posterior uveitis, or panuveitis, or chronic noninfectious anterior uveitis.\n",
      "\n",
      "\n",
      "\n",
      "\n",
      "Troy Brown\n",
      "\n",
      "Journalist\n",
      "\n",
      "Troy Brown is a freelance writer for Medscape.\n",
      "\n",
      "\n",
      "Disclosure\n",
      "Troy Brown has disclosed no relevant financial relationships.\n",
      "\n",
      "\n",
      "Title\n",
      "\n",
      "\n",
      "\n",
      "\n",
      "\n",
      "29\n",
      "08\n",
      "2012\n",
      "\n",
      "\n",
      "\n",
      "\n",
      "\n",
      "\n",
      "\n",
      "\n",
      "choroiditis,cyclitis,intermediate uveitis,orphan drugs,pars planitis,posterior uveitis\n",
      "\n",
      "\n",
      "\n",
      "29\n",
      "08\n",
      "2012\n",
      "\n",
      "\n",
      "\n",
      "\n",
      "\n",
      "\n",
      "\n",
      "\n",
      "\n",
      "\n",
      "\n",
      "August 29, 2012 — The US Food and Drug Administration (FDA) has granted orphan drug status to gevokizumab (Xoma 052, Xoma Corp), a monoclonal antibody that binds strongly to interleukin 1β (IL-1β), for the treatment of noninfectious intermediate uveitis, posterior uveitis, or panuveitis, or chronic noninfectious anterior uveitis.\n",
      "The Orphan Drug Act of 1983 was passed to encourage companies to develop treatments for rare diseases (diseases that affect fewer than 200,000 people in the United States). Because the market is so small, such treatments can be unprofitable to develop. Companies that develop orphan drugs receive a 50% tax credit for the cost of conducting human clinical trials, 7-year marketing exclusivity, and other incentives.\n",
      "Behçet's disease is a rare multisystem disease that causes blood vessel inflammation throughout the body. Common symptoms are mouth sores, genital sores, and a type of panuveitis known as Behçet's uveitis, an inflammation of the uvea, retina, and vitreous humor that can lead to retinal detachment, vitreous hemorrhage, glaucoma, and blindness.\n",
      "\"A genetic association has been shown between Behçet's disease and the IL-1 gene cluster, and IL-1β has been implicated as a mediator in Behçet's disease pathogenesis,\" Christine Kay, MD, the director of Retinal Clinical Research and the director of the Electrophysiology Service in the Vitreoretinal Division of the Department of Ophthalmology at the University of Florida in Gainesville, told Medscape Medical News. Dr. Kay is a clinical correspondent for the American Academy of Ophthalmology.\n",
      "\"Gevokizumab regulates the activation of IL-1 receptors and can be intravenously or subcutaneously administered,\" Dr. Kay added.\n",
      "Patients with Behçet's uveitis have few treatment options. \"There are currently only 2 drugs FDA-approved for the treatment of chronic noninfectious intermediate, posterior, and panuveitis (Retisertand Ozurdex ), and both are extended-release corticosteroid ocular implants,\" Dr. Kay said.\n",
      "Results of a proof-of-concept phase 2 trial of intravenous gevokizumab in 7 patients with Behçet's uveitis were published in the April issue of the Annals of Rheumatic Diseases. In that trial patients were given a single infusion of gevokizumab (0.3 mg/kg), and all patients experienced complete reduction of intraocular inflammation in between 4 and 21 days (median, 14 days). There were no treatment-related adverse events.\n",
      "\"In clinical trials, so far, gevokizumab has been studied in nearly 500 patients. The studies have shown that gevokizumab is well-tolerated, and no drug-related adverse events have been reported,\" Fred Kurland, chief financial officer of Xoma, said in an email interview with Medscape Medical News.\n",
      "Although it appears that gevokizumab \"may offer a viable treatment option in Behçet's disease, it remains to be seen if an IL-1 antibody will have an effect in other forms of noninfectious uveitis. A phase 3 clinical trial to evaluate the efficacy ofin the treatment of noninfectious uveitis is in the recruitment process,\" Dr. Kay said.\n",
      "\"Gevokizumab does offer the possibility of a pathophysiology-driven targeted therapy for IL-1 related uveitis, and if proven safe and effective in a phase 3 trial, this could provide a valuable option in the treatment of noninfectious intermediate uveitis, posterior uveitis, and panuveitis. Even if this drug is only shown to be effective in Behçet's disease, this could provide a useful and targeted treatment for an extremely aggressive condition, perhaps limiting broader and more toxic immunosuppression,\" Dr. Kay said.\n",
      "\n",
      "Other Potential Indications\n",
      "\n",
      "\"As an IL-1β inhibitor, gevokizumab has potential in a very large number of indications that are driven by inflammation, such as noninfectious uveitis.... e are also engaged in 2 proof-of-concept phase 2 trials using gevokizumab in patients with moderate to severe acne vulgaris and in erosive osteoarthritis of the hand, and we will initiate a third proof-of-concept trial in another indication later this year,\" Kurland explained.\n",
      "\"With respect to themarket specifically, we estimate that there are approximately 150,000 patients in the ,\" Kurland added, noting they are not discussing the drug's pricing yet.\n",
      "\n",
      "Dr. Kay has disclosed no relevant financial relationships.\n",
      "\n",
      "\n",
      "\n",
      "\n",
      "\n",
      "\n",
      "\n",
      "References\n",
      "\n",
      "\n",
      "\n",
      "\n",
      "\n",
      "\n",
      "\n",
      "Acknowledgements\n",
      "\n",
      "\n",
      "\n",
      "\n",
      "\n",
      "\n",
      "\n",
      "\n",
      "\n"
     ]
    }
   ],
   "source": [
    "print(sout_text_data)"
   ]
  },
  {
   "cell_type": "markdown",
   "id": "42142e8a-61d7-4d29-a863-608821650582",
   "metadata": {
    "jp-MarkdownHeadingCollapsed": true
   },
   "source": [
    "## Extract Text"
   ]
  },
  {
   "cell_type": "code",
   "execution_count": 21,
   "id": "c2279d17-7050-4647-ba2c-f05296d700be",
   "metadata": {},
   "outputs": [],
   "source": [
    "sample = denoise_text(root)"
   ]
  },
  {
   "cell_type": "code",
   "execution_count": 22,
   "id": "1be1809e-8b3b-4d67-a4af-e3c2adc380ce",
   "metadata": {},
   "outputs": [
    {
     "data": {
      "text/plain": [
       "4988"
      ]
     },
     "execution_count": 22,
     "metadata": {},
     "output_type": "execute_result"
    }
   ],
   "source": [
    "len(sample)"
   ]
  },
  {
   "cell_type": "code",
   "execution_count": 24,
   "id": "8e43e6aa-a5ae-4b69-81d3-e34052294de8",
   "metadata": {},
   "outputs": [
    {
     "name": "stdout",
     "output_type": "stream",
     "text": [
      "\n",
      "\n",
      "\n",
      "\n",
      "0901c7918047d0e2\n",
      "\n",
      "Orphan Drug Approvals\n",
      "\n",
      "\n",
      "\n",
      "\n",
      "WebMD, LLC\n",
      "\n",
      "\n",
      "\n",
      "index\n",
      "\n",
      "\n",
      "\n",
      "0901c79180555528\n",
      "\n",
      "\n",
      "News Alert\n",
      "\n",
      "\n",
      "\n",
      "\n",
      "\n",
      "FDA Grants Orphan Drug Status to Gevokizumab\n",
      "\n",
      "The FDA has granted orphan drug designation to gevokizumab for the treatment of noninfectious intermediate uveitis, posterior uveitis, or panuveitis, or chronic noninfectious anterior uveitis.\n",
      "\n",
      "\n",
      "\n",
      "\n",
      "Troy Brown\n",
      "\n",
      "Journalist\n",
      "\n",
      "Troy Brown is a freelance writer for Medscape.\n",
      "\n",
      "\n",
      "Disclosure\n",
      "Troy Brown has disclosed no relevant financial relationships.\n",
      "\n",
      "\n",
      "Title\n",
      "\n",
      "\n",
      "\n",
      "\n",
      "\n",
      "29\n",
      "08\n",
      "2012\n",
      "\n",
      "\n",
      "\n",
      "\n",
      "\n",
      "\n",
      "\n",
      "\n",
      "choroiditis,cyclitis,intermediate uveitis,orphan drugs,pars planitis,posterior uveitis\n",
      "\n",
      "\n",
      "\n",
      "29\n",
      "08\n",
      "2012\n",
      "\n",
      "\n",
      "\n",
      "\n",
      "\n",
      "\n",
      "\n",
      "\n",
      "\n",
      "\n",
      "\n",
      "August 29, 2012 — The US Food and Drug Administration (FDA) has granted orphan drug status to gevokizumab (Xoma 052, Xoma Corp), a monoclonal antibody that binds strongly to interleukin 1β (IL-1β), for the treatment of noninfectious intermediate uveitis, posterior uveitis, or panuveitis, or chronic noninfectious anterior uveitis.\n",
      "The Orphan Drug Act of 1983 was passed to encourage companies to develop treatments for rare diseases (diseases that affect fewer than 200,000 people in the United States). Because the market is so small, such treatments can be unprofitable to develop. Companies that develop orphan drugs receive a 50% tax credit for the cost of conducting human clinical trials, 7-year marketing exclusivity, and other incentives.\n",
      "Behçet's disease is a rare multisystem disease that causes blood vessel inflammation throughout the body. Common symptoms are mouth sores, genital sores, and a type of panuveitis known as Behçet's uveitis, an inflammation of the uvea, retina, and vitreous humor that can lead to retinal detachment, vitreous hemorrhage, glaucoma, and blindness.\n",
      "\"A genetic association has been shown between Behçet's disease and the IL-1 gene cluster, and IL-1β has been implicated as a mediator in Behçet's disease pathogenesis,\" Christine Kay, MD, the director of Retinal Clinical Research and the director of the Electrophysiology Service in the Vitreoretinal Division of the Department of Ophthalmology at the University of Florida in Gainesville, told Medscape Medical News. Dr. Kay is a clinical correspondent for the American Academy of Ophthalmology.\n",
      "\"Gevokizumab regulates the activation of IL-1 receptors and can be intravenously or subcutaneously administered,\" Dr. Kay added.\n",
      "Patients with Behçet's uveitis have few treatment options. \"There are currently only 2 drugs FDA-approved for the treatment of chronic noninfectious intermediate, posterior, and panuveitis (Retisertand Ozurdex ), and both are extended-release corticosteroid ocular implants,\" Dr. Kay said.\n",
      "Results of a proof-of-concept phase 2 trial of intravenous gevokizumab in 7 patients with Behçet's uveitis were published in the April issue of the Annals of Rheumatic Diseases. In that trial patients were given a single infusion of gevokizumab (0.3 mg/kg), and all patients experienced complete reduction of intraocular inflammation in between 4 and 21 days (median, 14 days). There were no treatment-related adverse events.\n",
      "\"In clinical trials, so far, gevokizumab has been studied in nearly 500 patients. The studies have shown that gevokizumab is well-tolerated, and no drug-related adverse events have been reported,\" Fred Kurland, chief financial officer of Xoma, said in an email interview with Medscape Medical News.\n",
      "Although it appears that gevokizumab \"may offer a viable treatment option in Behçet's disease, it remains to be seen if an IL-1 antibody will have an effect in other forms of noninfectious uveitis. A phase 3 clinical trial to evaluate the efficacy ofin the treatment of noninfectious uveitis is in the recruitment process,\" Dr. Kay said.\n",
      "\"Gevokizumab does offer the possibility of a pathophysiology-driven targeted therapy for IL-1 related uveitis, and if proven safe and effective in a phase 3 trial, this could provide a valuable option in the treatment of noninfectious intermediate uveitis, posterior uveitis, and panuveitis. Even if this drug is only shown to be effective in Behçet's disease, this could provide a useful and targeted treatment for an extremely aggressive condition, perhaps limiting broader and more toxic immunosuppression,\" Dr. Kay said.\n",
      "\n",
      "Other Potential Indications\n",
      "\n",
      "\"As an IL-1β inhibitor, gevokizumab has potential in a very large number of indications that are driven by inflammation, such as noninfectious uveitis.... e are also engaged in 2 proof-of-concept phase 2 trials using gevokizumab in patients with moderate to severe acne vulgaris and in erosive osteoarthritis of the hand, and we will initiate a third proof-of-concept trial in another indication later this year,\" Kurland explained.\n",
      "\"With respect to themarket specifically, we estimate that there are approximately 150,000 patients in the ,\" Kurland added, noting they are not discussing the drug's pricing yet.\n",
      "\n",
      "Dr. Kay has disclosed no relevant financial relationships.\n",
      "\n",
      "\n",
      "\n",
      "\n",
      "\n",
      "\n",
      "\n",
      "References\n",
      "\n",
      "\n",
      "\n",
      "\n",
      "\n",
      "\n",
      "\n",
      "Acknowledgements\n",
      "\n",
      "\n",
      "\n",
      "\n",
      "\n",
      "\n",
      "\n",
      "\n",
      "\n"
     ]
    }
   ],
   "source": [
    "print(sample)"
   ]
  },
  {
   "cell_type": "code",
   "execution_count": null,
   "id": "5cf2d4f0-178a-416c-84ff-f0072bf530b7",
   "metadata": {},
   "outputs": [],
   "source": []
  }
 ],
 "metadata": {
  "kernelspec": {
   "display_name": "Python 3 (ipykernel)",
   "language": "python",
   "name": "python3"
  },
  "language_info": {
   "codemirror_mode": {
    "name": "ipython",
    "version": 3
   },
   "file_extension": ".py",
   "mimetype": "text/x-python",
   "name": "python",
   "nbconvert_exporter": "python",
   "pygments_lexer": "ipython3",
   "version": "3.12.4"
  }
 },
 "nbformat": 4,
 "nbformat_minor": 5
}
